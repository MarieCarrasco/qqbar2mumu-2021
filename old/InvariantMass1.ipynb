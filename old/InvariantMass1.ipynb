{
 "cells": [
  {
   "cell_type": "markdown",
   "id": "43d34ee3-7e50-4c9f-b63b-2e6a3041e3c8",
   "metadata": {},
   "source": [
    "# Finding the invariant mass"
   ]
  },
  {
   "cell_type": "markdown",
   "id": "78ae118e-b80c-409c-bd41-f59035b340ed",
   "metadata": {},
   "source": [
    "## Captain log\n",
    "\n",
    "> 160221 (Marie) \n",
    "\n",
    "> * Still need to understand the track loop, as it is it reads only the two track events\n",
    "> * Some events with isCMUL==1 have none or more than 2 tracks, how to extract the invariant mass ? Need to implement other cuts, like nMuons==2, and sum the energies and impulsions for each muon\n",
    "\n",
    "## Initialization"
   ]
  },
  {
   "cell_type": "markdown",
   "id": "419ddfcb-1180-40f5-a997-342e5649bbe7",
   "metadata": {},
   "source": [
    "Libraries and root files.\n",
    "\n",
    "> Be careful with the statistics and the runtime\n",
    "\n",
    "Not enough statistic in run 290223 (3,7Mo)\n",
    "\n",
    "Too much in runs 291375 (411Mo, runtime 3'), 291397 (891M, runtime 6', biggest file)\n",
    "\n",
    "Prefer run 291690 (50.4Mo, runtime 21\") to check the algorithm, 291944 (133Mo, runtime 54') to get a first idea with more statistics\n",
    "\n",
    "> Decomment the one you want to download with curl"
   ]
  },
  {
   "cell_type": "code",
   "execution_count": 92,
   "id": "ac4d1621-eeee-4668-9c91-7f764b5f70a2",
   "metadata": {},
   "outputs": [],
   "source": [
    "import uproot\n",
    "import awkward as ak\n",
    "import numpy as np\n",
    "import math\n",
    "import hist\n",
    "import matplotlib.pyplot as plt"
   ]
  },
  {
   "cell_type": "code",
   "execution_count": 93,
   "id": "299d5a88-5f09-4ed7-a9bc-d30eb0ba056d",
   "metadata": {},
   "outputs": [],
   "source": [
    "#!curl 'https://cernbox.cern.ch/index.php/s/r7VFXonK39smzKP/download?path=290223/AnalysisResults.root' > run290223.data.root\n",
    "#!curl 'https://cernbox.cern.ch/index.php/s/r7VFXonK39smzKP/download?path=291397/AnalysisResults.root' > run291397.data.root\n",
    "#!curl 'https://cernbox.cern.ch/index.php/s/r7VFXonK39smzKP/download?path=291375/AnalysisResults.root' > run291375.data.root\n",
    "#!curl 'https://cernbox.cern.ch/index.php/s/r7VFXonK39smzKP/download?path=291944/AnalysisResults.root' > run291944.data.root\n",
    "#!curl 'https://cernbox.cern.ch/index.php/s/r7VFXonK39smzKP/download?path=291690/AnalysisResults.root' > run291690.data.root\n"
   ]
  },
  {
   "cell_type": "code",
   "execution_count": 94,
   "id": "9b02dd6b-f7fb-4883-87b3-aeb5a94eb8a0",
   "metadata": {},
   "outputs": [],
   "source": [
    "file = uproot.open(\"run291690.data.root\")\n",
    "events = file[\"eventsTree\"]"
   ]
  },
  {
   "cell_type": "markdown",
   "id": "fed3483a-fdd9-4bbf-87c9-1469cc1b01e4",
   "metadata": {},
   "source": [
    "## Function declaration"
   ]
  },
  {
   "cell_type": "markdown",
   "id": "82da3495-ecd3-4f6a-8f09-c45955834789",
   "metadata": {},
   "source": [
    "On définit comme précédemment quelques fonctions pour calculer la pseudo-rapidité :"
   ]
  },
  {
   "cell_type": "code",
   "execution_count": 95,
   "id": "c47a7aec-c67d-419d-b040-1fc553140418",
   "metadata": {},
   "outputs": [],
   "source": [
    "def mag(px:float,py:float,pz:float):\n",
    "    \"\"\"Returns the norm of the 3-vector (px,py,pz).\"\"\"\n",
    "    return math.sqrt(px*px+py*py+pz*pz)\n",
    "\n",
    "def costheta(px:float,py:float,pz:float):\n",
    "    \"\"\"Returns the cos(theta) of the 3 vector (px,py,pz).\"\"\"\n",
    "    ptot = mag(px,py,pz)\n",
    "    return 1.0 if ptot == 0.0 else pz/ptot\n",
    "\n",
    "def eta(px:float,py:float,pz:float):\n",
    "    \"\"\"Returns the pseudo-rapidity of the 3 vector (px,py,pz).\"\"\"\n",
    "    ct = costheta(px,py,pz)\n",
    "    if ct*ct < 1:\n",
    "        return -0.5* math.log( (1.0-ct)/(1.0+ct) )\n",
    "    if pz == 0: \n",
    "        return 0\n",
    "    if pz>0: \n",
    "        return 10E10\n",
    "    else:\n",
    "        return -10E20"
   ]
  },
  {
   "cell_type": "markdown",
   "id": "2b7f4565-94e8-488b-87e7-11d4ba1b8ece",
   "metadata": {},
   "source": [
    "## Invariant Mass\n",
    "\n",
    "### Histograms"
   ]
  },
  {
   "cell_type": "code",
   "execution_count": 96,
   "id": "7fd3dc98-b033-4935-819f-f4b7b07b69b1",
   "metadata": {},
   "outputs": [],
   "source": [
    "hMinv = hist.Hist(hist.axis.Regular(bins=10000,start=0,stop=1000,name='$Minv$'))"
   ]
  },
  {
   "cell_type": "markdown",
   "id": "081962e5",
   "metadata": {},
   "source": [
    "### Invariant Mass extraction"
   ]
  },
  {
   "cell_type": "code",
   "execution_count": 97,
   "id": "f6515f9b-2f70-4c3a-a5bf-cb5056718216",
   "metadata": {},
   "outputs": [
    {
     "name": "stdout",
     "output_type": "stream",
     "text": [
      "121469 60258\n"
     ]
    }
   ],
   "source": [
    "nofTracks=0 \n",
    "nofEvents=0  \n",
    "Emuneg = 0\n",
    "Emupos = 0\n",
    "Ppos = [0,0,0]\n",
    "Pneg = [0,0,0]\n",
    "\n",
    "for m in events.iterate([\"nMuons\",\"isCMUL\",\"Muon_E\",\"Muon_Px\",\"Muon_Py\",\"Muon_Pz\",\"Muon_Charge\"],how=\"zip\",step_size=10000):\n",
    "    for event in m[m.isCMUL>0]:\n",
    "        nofEvents+=1\n",
    "        tracks = event[\"Muon\"].to_list()\n",
    "        if len(tracks)==2:\n",
    "            for t in tracks:\n",
    "                nofTracks+=1\n",
    "                if t[\"Charge\"]<0:\n",
    "                    Emuneg = t[\"E\"]\n",
    "                    Pneg = [t[\"Px\"],t[\"Py\"],t[\"Pz\"]]\n",
    "                if t[\"Charge\"]>0:\n",
    "                    Emupos = t[\"E\"]\n",
    "                    Ppos = [t[\"Px\"],t[\"Py\"],t[\"Pz\"]]#\n",
    "            Edimuon = Emuneg + Emupos\n",
    "            Pdimuon = Ppos+Pneg\n",
    "            magPdimuon = mag(Pdimuon[0],Pdimuon[1],Pdimuon[2])\n",
    "            if np.sqrt(Edimuon*Edimuon - magPdimuon*magPdimuon) != 0:\n",
    "                hMinv.fill(np.sqrt(Edimuon*Edimuon - magPdimuon*magPdimuon))\n",
    "\n",
    "print(nofEvents,nofTracks)"
   ]
  },
  {
   "cell_type": "markdown",
   "id": "80358759-5eb6-41fe-82e8-374400b23c6a",
   "metadata": {},
   "source": [
    "### Plot"
   ]
  },
  {
   "cell_type": "code",
   "execution_count": 101,
   "id": "a6931c39-df2d-4a1a-9a2d-d1757844d879",
   "metadata": {},
   "outputs": [
    {
     "data": {
      "image/png": "[encoded data removed]",
      "text/plain": [
       "<Figure size 432x288 with 1 Axes>"
      ]
     },
     "metadata": {
      "needs_background": "light"
     },
     "output_type": "display_data"
    }
   ],
   "source": [
    "plt.yscale(\"log\")\n",
    "#plt.xscale(\"log\")\n",
    "plt.xlim(1,40)\n",
    "hMinv.plot();"
   ]
  }
 ],
 "metadata": {
  "kernelspec": {
   "display_name": "Python 3 (ipykernel)",
   "language": "python",
   "name": "python3"
  },
  "language_info": {
   "codemirror_mode": {
    "name": "ipython",
    "version": 3
   },
   "file_extension": ".py",
   "mimetype": "text/x-python",
   "name": "python",
   "nbconvert_exporter": "python",
   "pygments_lexer": "ipython3",
   "version": "3.9.7"
  }
 },
 "nbformat": 4,
 "nbformat_minor": 5
}
